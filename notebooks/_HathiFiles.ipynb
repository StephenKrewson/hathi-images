{
 "cells": [
  {
   "cell_type": "code",
   "execution_count": 1,
   "metadata": {},
   "outputs": [],
   "source": [
    "import pandas as pd"
   ]
  },
  {
   "cell_type": "code",
   "execution_count": 9,
   "metadata": {},
   "outputs": [],
   "source": [
    "df = pd.read_csv(\"google_ids_1800-1850.txt.gz\", sep='\\t', error_bad_lines=False)"
   ]
  },
  {
   "cell_type": "code",
   "execution_count": 10,
   "metadata": {},
   "outputs": [
    {
     "data": {
      "text/plain": [
       "(500059, 26)"
      ]
     },
     "execution_count": 10,
     "metadata": {},
     "output_type": "execute_result"
    }
   ],
   "source": [
    "df.shape"
   ]
  },
  {
   "cell_type": "code",
   "execution_count": 11,
   "metadata": {},
   "outputs": [
    {
     "data": {
      "text/plain": [
       "Index(['htid', 'access', 'rights', 'ht_bib_key', 'description', 'source',\n",
       "       'source_bib_num', 'oclc_num', 'isbn', 'issn', 'lccn', 'title',\n",
       "       'imprint', 'rights_reason_code', 'rights_timestamp', 'us_gov_doc_flag',\n",
       "       'rights_date_used', 'pub_place', 'lang', 'bib_fmt', 'collection_code',\n",
       "       'content_provider_code', 'responsible_entity_code',\n",
       "       'digitization_agent_code', 'access_profile_code', 'author'],\n",
       "      dtype='object')"
      ]
     },
     "execution_count": 11,
     "metadata": {},
     "output_type": "execute_result"
    }
   ],
   "source": [
    "df.columns"
   ]
  },
  {
   "cell_type": "code",
   "execution_count": 14,
   "metadata": {},
   "outputs": [
    {
     "data": {
      "text/plain": [
       "<bound method NDFrame.head of         rights_date_used access_profile_code\n",
       "0                 1807.0              google\n",
       "1                 1833.0              google\n",
       "2                 1833.0              google\n",
       "3                 1833.0              google\n",
       "4                 1833.0              google\n",
       "5                 1825.0              google\n",
       "6                 1825.0              google\n",
       "7                 1848.0              google\n",
       "8                 1834.0              google\n",
       "9                 1838.0              google\n",
       "10                1834.0              google\n",
       "11                1834.0              google\n",
       "12                1834.0              google\n",
       "13                1834.0              google\n",
       "14                1834.0              google\n",
       "15                1834.0              google\n",
       "16                1834.0              google\n",
       "17                1806.0              google\n",
       "18                1806.0              google\n",
       "19                1806.0              google\n",
       "20                1806.0              google\n",
       "21                1806.0              google\n",
       "22                1806.0              google\n",
       "23                1806.0              google\n",
       "24                1806.0              google\n",
       "25                1806.0              google\n",
       "26                1806.0              google\n",
       "27                1806.0              google\n",
       "28                1806.0              google\n",
       "29                1806.0              google\n",
       "...                  ...                 ...\n",
       "500029            1834.0              google\n",
       "500030            1849.0              google\n",
       "500031            1833.0              google\n",
       "500032            1822.0              google\n",
       "500033            1835.0              google\n",
       "500034            1843.0              google\n",
       "500035            1843.0              google\n",
       "500036            1845.0              google\n",
       "500037            1834.0              google\n",
       "500038            1800.0              google\n",
       "500039            1812.0              google\n",
       "500040            1848.0              google\n",
       "500041            1842.0              google\n",
       "500042            1848.0              google\n",
       "500043            1833.0              google\n",
       "500044            1818.0              google\n",
       "500045            1850.0              google\n",
       "500046            1840.0              google\n",
       "500047            1830.0              google\n",
       "500048            1826.0              google\n",
       "500049            1838.0              google\n",
       "500050            1850.0              google\n",
       "500051            1842.0              google\n",
       "500052            1842.0              google\n",
       "500053            1831.0              google\n",
       "500054            1817.0              google\n",
       "500055            1836.0              google\n",
       "500056            1832.0              google\n",
       "500057            1819.0              google\n",
       "500058            1845.0              google\n",
       "\n",
       "[500059 rows x 2 columns]>"
      ]
     },
     "execution_count": 14,
     "metadata": {},
     "output_type": "execute_result"
    }
   ],
   "source": [
    "df[['rights_date_used','access_profile_code']].head"
   ]
  },
  {
   "cell_type": "code",
   "execution_count": null,
   "metadata": {},
   "outputs": [],
   "source": []
  }
 ],
 "metadata": {
  "kernelspec": {
   "display_name": "Python 3",
   "language": "python",
   "name": "python3"
  },
  "language_info": {
   "codemirror_mode": {
    "name": "ipython",
    "version": 3
   },
   "file_extension": ".py",
   "mimetype": "text/x-python",
   "name": "python",
   "nbconvert_exporter": "python",
   "pygments_lexer": "ipython3",
   "version": "3.7.3"
  }
 },
 "nbformat": 4,
 "nbformat_minor": 2
}
