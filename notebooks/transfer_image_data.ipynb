{
 "cells": [
  {
   "cell_type": "markdown",
   "id": "51537a44",
   "metadata": {},
   "source": [
    "# Download and transfer image data\n",
    "\n",
    "This notebook gives some methods for getting image data to a VM for running PixPlot analysis.\n",
    "\n",
    "It also shows how to sync that data to a local machine, for running demos and looking through image folders."
   ]
  },
  {
   "cell_type": "markdown",
   "id": "a4dda3f2",
   "metadata": {},
   "source": [
    "## Download images from Google Cloud Storage\n",
    "\n",
    "The gsutil URIs for the dataset are of the form:\n",
    "\n",
    "```gs://hathitrust-full_1800-50/chi/000/chi.085041031_00000006_00.jpg```\n",
    "\n",
    "The bucket name is **hathitrust-full_1800-50** and the storage class is Nearline (multiple zones). The simplest way to land this data to a file is with gsutil, from the VM. But Python bindings are available as well."
   ]
  },
  {
   "cell_type": "code",
   "execution_count": 13,
   "id": "36be728b",
   "metadata": {},
   "outputs": [
    {
     "name": "stdout",
     "output_type": "stream",
     "text": [
      "cnn-models\r\n",
      "dhlab-workshop\r\n",
      "early-19C-illustrations_full-index.ann\r\n",
      "early-19C-illustrations_full-index_list.txt.gz\r\n",
      "early-19C-illustrations_metadata.csv\r\n",
      "keys.py\r\n",
      "medical-heritage-library\r\n",
      "munroe-francis\r\n",
      "peter-parley\r\n",
      "training_11-class-junk-filter.zip\r\n"
     ]
    }
   ],
   "source": [
    "!ls /mnt/c/users/stephen-krewson/documents/_datasets"
   ]
  },
  {
   "cell_type": "code",
   "execution_count": 8,
   "id": "03c62d7b",
   "metadata": {},
   "outputs": [],
   "source": [
    "import pandas as pd\n",
    "import os"
   ]
  },
  {
   "cell_type": "code",
   "execution_count": 19,
   "id": "80b1af4a",
   "metadata": {},
   "outputs": [],
   "source": [
    "# The intended location for the data. If within Git, remember to not version .jpg files.\n",
    "# Make sure the data is being backed up on my 4TB disk; so best to keep it on C:\\\n",
    "DEST = \"/mnt/c/users/stephen-krewson/documents/_datasets/peter-parley/images\""
   ]
  },
  {
   "cell_type": "code",
   "execution_count": 20,
   "id": "c66c6f13",
   "metadata": {},
   "outputs": [],
   "source": [
    "!ls $DEST"
   ]
  },
  {
   "cell_type": "code",
   "execution_count": 21,
   "id": "6a694eb0",
   "metadata": {},
   "outputs": [],
   "source": [
    "# POSE THE QUESTION BEFORE RUNNING THE JOB! Consider adding \"geography\" to Peter Parley query?\n",
    "# How many more volumes would this add?\n",
    "# PixPlot 1: Educational publishers (Carter Hendee, Munroe Francis, etc.). Cf. Goodrich's output and memoirs.\n",
    "# PixPlot 2: Geography books and Peter Parley texts. Searching title for geography OR peter parley. To avoid dedup step."
   ]
  },
  {
   "cell_type": "code",
   "execution_count": null,
   "id": "a2864377",
   "metadata": {},
   "outputs": [],
   "source": []
  }
 ],
 "metadata": {
  "kernelspec": {
   "display_name": "Python 3",
   "language": "python",
   "name": "python3"
  },
  "language_info": {
   "codemirror_mode": {
    "name": "ipython",
    "version": 3
   },
   "file_extension": ".py",
   "mimetype": "text/x-python",
   "name": "python",
   "nbconvert_exporter": "python",
   "pygments_lexer": "ipython3",
   "version": "3.8.5"
  }
 },
 "nbformat": 4,
 "nbformat_minor": 5
}
